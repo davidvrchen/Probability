{
  "cells": [
    {
      "cell_type": "markdown",
      "metadata": {
        "id": "view-in-github",
        "colab_type": "text"
      },
      "source": [
        "<a href=\"https://colab.research.google.com/github/davidvrchen/Probability/blob/main/HW1_2IIG0_23_24.ipynb\" target=\"_parent\"><img src=\"https://colab.research.google.com/assets/colab-badge.svg\" alt=\"Open In Colab\"/></a>"
      ]
    },
    {
      "cell_type": "code",
      "execution_count": null,
      "id": "216d9e83",
      "metadata": {
        "id": "216d9e83"
      },
      "outputs": [],
      "source": [
        "import numpy as np"
      ]
    },
    {
      "cell_type": "markdown",
      "id": "a7eadd07",
      "metadata": {
        "id": "a7eadd07"
      },
      "source": [
        "If possible, update your sklearn version to 1.3.2 to reduce variance in the versions."
      ]
    },
    {
      "cell_type": "code",
      "execution_count": null,
      "id": "7826208c",
      "metadata": {
        "id": "7826208c"
      },
      "outputs": [],
      "source": [
        "#!pip3 install scikit-learn==1.3.2"
      ]
    },
    {
      "cell_type": "code",
      "execution_count": null,
      "id": "dd0a3fe3",
      "metadata": {
        "id": "dd0a3fe3",
        "outputId": "de79817a-c337-4f81-b14c-d2e28edc1122"
      },
      "outputs": [
        {
          "name": "stdout",
          "output_type": "stream",
          "text": [
            "The scikit-learn version is 1.3.2.\n"
          ]
        }
      ],
      "source": [
        "import sklearn\n",
        "print('The scikit-learn version is {}.'.format(sklearn.__version__))"
      ]
    },
    {
      "cell_type": "markdown",
      "source": [
        "## Question 1, Gradient Descent"
      ],
      "metadata": {
        "id": "SjeNmrRCYxqX"
      },
      "id": "SjeNmrRCYxqX"
    },
    {
      "cell_type": "code",
      "source": [
        "def sigmoid(x):\n",
        "    return math.exp(x) / (math.exp(x) + 1)\n",
        "\n",
        "def f(w, b):\n",
        "    return (-math.log(sigmoid(w+b))) + (-math.log(sigmoid(1.5*w + b))) + (-math.log(sigmoid(-2*w - b)))\n",
        "\n",
        "def grad_f(w, b):\n",
        "    partial_w = math.exp(w)\n",
        "    partial_b = math.exp(b)\n",
        "    return partial_w, partial_b\n",
        "\n",
        "def gradient_descent(f, grad_f, eta, w_0, b_0, max_iter=100):\n",
        "    w, b = w_0, b_0\n",
        "    best_f = float('inf')\n",
        "    for t in range(max_iter):\n",
        "        grad_w, grad_b = grad_f(w, b)\n",
        "\n",
        "        w = w - eta(t) * grad_w\n",
        "        b = b - eta(t) * grad_b\n",
        "        current_f = f(w, b)\n",
        "        best_f = min(best_f, current_f)\n",
        "\n",
        "    return w, b, f(w, b), best_f"
      ],
      "metadata": {
        "id": "DIVU9ZhCY0_v"
      },
      "id": "DIVU9ZhCY0_v",
      "execution_count": null,
      "outputs": []
    },
    {
      "cell_type": "markdown",
      "source": [
        "Part a"
      ],
      "metadata": {
        "id": "kPpjHXbUZEW5"
      },
      "id": "kPpjHXbUZEW5"
    },
    {
      "cell_type": "code",
      "source": [
        "def eta_const(t, c=0.2):\n",
        "    return c\n",
        "\n",
        "w_0 = 1\n",
        "b_0 = 1\n",
        "w_updated, b_updated, f_final, best_f = gradient_descent(f, grad_f, eta_const, w_0, b_0)\n",
        "print(f\"Function value after 100 iterations: {f_final}\")\n",
        "print(f\"Best function value achieved: {best_f}\")"
      ],
      "metadata": {
        "id": "s032ODrSZDkr"
      },
      "id": "s032ODrSZDkr",
      "execution_count": null,
      "outputs": []
    },
    {
      "cell_type": "markdown",
      "source": [
        "Part b"
      ],
      "metadata": {
        "id": "vNchwJ2eZPHM"
      },
      "id": "vNchwJ2eZPHM"
    },
    {
      "cell_type": "code",
      "source": [
        "def eta_sqrt(t, c=0.2):\n",
        "    return c / math.sqrt(t+1)\n",
        "\n",
        "w_0 = 1\n",
        "b_0 = 1\n",
        "w_updated, b_updated, f_final, best_f = gradient_descent(f, grad_f, eta_sqrt, w_0, b_0)\n",
        "print(f\"Function value after 100 iterations: {f_final}\")\n",
        "print(f\"Best function value achieved: {best_f}\")"
      ],
      "metadata": {
        "id": "UXRmkHcmZQrr"
      },
      "id": "UXRmkHcmZQrr",
      "execution_count": null,
      "outputs": []
    },
    {
      "cell_type": "markdown",
      "source": [
        "Part c"
      ],
      "metadata": {
        "id": "qPqejncjZZ-_"
      },
      "id": "qPqejncjZZ-_"
    },
    {
      "cell_type": "code",
      "source": [
        "def eta_multistep(t, milestones=[20,50,80], c=0.2, eta_init=0.2):\n",
        "    if t < milestones[0]:\n",
        "        return eta_init\n",
        "    elif (t >= milestones[0] and t < milestones[1]):\n",
        "        return eta_init * c\n",
        "    elif (t >= milestones[1] and t < milestones[2]):\n",
        "        return eta_init * (c)**2\n",
        "    else:\n",
        "        return eta_init * (c)**3\n",
        "\n",
        "w_0 = 1\n",
        "b_0 = 1\n",
        "w_updated, b_updated, f_final, best_f = gradient_descent(f, grad_f, eta_multistep, w_0, b_0)\n",
        "print(f\"Function value after 100 iterations: {f_final}\")\n",
        "print(f\"Best function value achieved: {best_f}\")"
      ],
      "metadata": {
        "id": "ucOe1mG9ZbEQ"
      },
      "id": "ucOe1mG9ZbEQ",
      "execution_count": null,
      "outputs": []
    },
    {
      "cell_type": "markdown",
      "source": [
        "## Question 2, Coordinate descent"
      ],
      "metadata": {
        "id": "9tmfCFuJ0q79"
      },
      "id": "9tmfCFuJ0q79"
    },
    {
      "cell_type": "markdown",
      "source": [
        "part a"
      ],
      "metadata": {
        "id": "YqPzldIi6JKr"
      },
      "id": "YqPzldIi6JKr"
    },
    {
      "cell_type": "code",
      "source": [
        "def argmin_x1(x0):\n",
        "    # d/dx1 = 2*x1^3-x2\n",
        "    return (x0[2-1] / 2) ** (1./3)\n",
        "\n",
        "def argmin_x2(x0):\n",
        "    # d/dx2 = -x1+2*x2+x3\n",
        "    return (x0[1-1] - x0[3-1]) / 2\n",
        "\n",
        "def argmin_x3(x0):\n",
        "    # d/dx3 = x2+2*x3\n",
        "    return - x0[2-1] / 2\n",
        "\n",
        "x0 = [2,3,4]\n",
        "print(argmin_x1(x0))\n",
        "print(argmin_x2(x0))\n",
        "print(argmin_x3(x0))\n",
        "\n",
        "# for checking values in 2b\n",
        "print(argmin_x2([argmin_x1([2,3,4]),3,4]))\n",
        "print(argmin_x3([argmin_x1([2,3,4]),argmin_x2([argmin_x1([2,3,4]),3,4]), 4]))"
      ],
      "metadata": {
        "id": "EtV9HIuE04G7",
        "colab": {
          "base_uri": "https://localhost:8080/"
        },
        "outputId": "83522a4d-ad8e-4439-94c4-98537e31beaa"
      },
      "id": "EtV9HIuE04G7",
      "execution_count": null,
      "outputs": [
        {
          "output_type": "stream",
          "name": "stdout",
          "text": [
            "1.1447142425533319\n",
            "-1.0\n",
            "-1.5\n",
            "-1.4276428787233342\n",
            "0.7138214393616671\n"
          ]
        }
      ]
    },
    {
      "cell_type": "markdown",
      "source": [
        "part b"
      ],
      "metadata": {
        "id": "hKQ3WR266Kbx"
      },
      "id": "hKQ3WR266Kbx"
    },
    {
      "cell_type": "code",
      "source": [
        "argmin = [argmin_x1, argmin_x2, argmin_x3]\n",
        "x_0 = [1, 20, 5]\n",
        "\n",
        "def coordinate_descent(argmin, x_0, max_iter = 100):\n",
        "    x_t = x_0.copy()\n",
        "    for t in range(max_iter):\n",
        "        for i in range(len(argmin)):\n",
        "            x_t[i] = argmin[i](x_t)\n",
        "\n",
        "    print(x_t)\n",
        "\n",
        "coordinate_descent(argmin, x0, max_iter=1)\n",
        "coordinate_descent(argmin, x0)"
      ],
      "metadata": {
        "colab": {
          "base_uri": "https://localhost:8080/"
        },
        "id": "JV-A54Qg6LWG",
        "outputId": "05f1841b-1ca5-4f80-d5d8-d3e5d1ff362e"
      },
      "id": "JV-A54Qg6LWG",
      "execution_count": null,
      "outputs": [
        {
          "output_type": "stream",
          "name": "stdout",
          "text": [
            "[1, 20, 5]\n",
            "[1.1447142425533319, -1.4276428787233342, 0.7138214393616671]\n",
            "[(0.5773502691896257+2.103924057114574e-30j), (0.38490017945975047+2.103924057114574e-30j), (-0.19245008972987523-1.051962028557287e-30j)]\n"
          ]
        }
      ]
    },
    {
      "cell_type": "markdown",
      "id": "64c1c5d2",
      "metadata": {
        "id": "64c1c5d2"
      },
      "source": [
        "## Regression - Polynomial features"
      ]
    },
    {
      "cell_type": "code",
      "execution_count": null,
      "id": "3df6fc3b",
      "metadata": {
        "id": "3df6fc3b",
        "outputId": "c8ac17b1-82a6-4f08-8e1d-a56b9b39a1a8",
        "colab": {
          "base_uri": "https://localhost:8080/"
        }
      },
      "outputs": [
        {
          "output_type": "stream",
          "name": "stdout",
          "text": [
            ".. _california_housing_dataset:\n",
            "\n",
            "California Housing dataset\n",
            "--------------------------\n",
            "\n",
            "**Data Set Characteristics:**\n",
            "\n",
            "    :Number of Instances: 20640\n",
            "\n",
            "    :Number of Attributes: 8 numeric, predictive attributes and the target\n",
            "\n",
            "    :Attribute Information:\n",
            "        - MedInc        median income in block group\n",
            "        - HouseAge      median house age in block group\n",
            "        - AveRooms      average number of rooms per household\n",
            "        - AveBedrms     average number of bedrooms per household\n",
            "        - Population    block group population\n",
            "        - AveOccup      average number of household members\n",
            "        - Latitude      block group latitude\n",
            "        - Longitude     block group longitude\n",
            "\n",
            "    :Missing Attribute Values: None\n",
            "\n",
            "This dataset was obtained from the StatLib repository.\n",
            "https://www.dcc.fc.up.pt/~ltorgo/Regression/cal_housing.html\n",
            "\n",
            "The target variable is the median house value for California districts,\n",
            "expressed in hundreds of thousands of dollars ($100,000).\n",
            "\n",
            "This dataset was derived from the 1990 U.S. census, using one row per census\n",
            "block group. A block group is the smallest geographical unit for which the U.S.\n",
            "Census Bureau publishes sample data (a block group typically has a population\n",
            "of 600 to 3,000 people).\n",
            "\n",
            "A household is a group of people residing within a home. Since the average\n",
            "number of rooms and bedrooms in this dataset are provided per household, these\n",
            "columns may take surprisingly large values for block groups with few households\n",
            "and many empty houses, such as vacation resorts.\n",
            "\n",
            "It can be downloaded/loaded using the\n",
            ":func:`sklearn.datasets.fetch_california_housing` function.\n",
            "\n",
            ".. topic:: References\n",
            "\n",
            "    - Pace, R. Kelley and Ronald Barry, Sparse Spatial Autoregressions,\n",
            "      Statistics and Probability Letters, 33 (1997) 291-297\n",
            "\n"
          ]
        }
      ],
      "source": [
        "from sklearn.datasets import fetch_california_housing\n",
        "california = fetch_california_housing()\n",
        "print(california.DESCR)"
      ]
    },
    {
      "cell_type": "markdown",
      "id": "ba9fa714",
      "metadata": {
        "id": "ba9fa714"
      },
      "source": [
        "Creating the data matrix"
      ]
    },
    {
      "cell_type": "code",
      "execution_count": null,
      "id": "c46c883e",
      "metadata": {
        "id": "c46c883e",
        "outputId": "29caccf8-720e-417c-a433-12bfda8982ca",
        "colab": {
          "base_uri": "https://localhost:8080/"
        }
      },
      "outputs": [
        {
          "output_type": "stream",
          "name": "stdout",
          "text": [
            "20640 8\n"
          ]
        }
      ],
      "source": [
        "D = california.data\n",
        "y = california.target\n",
        "n,d = D.shape\n",
        "print(n,d)"
      ]
    },
    {
      "cell_type": "code",
      "source": [
        "from sklearn.preprocessing import StandardScaler\n",
        "\n",
        "# Standardize the data\n",
        "scaler = StandardScaler()\n",
        "X_scaled =scaler.fit_transform(D)"
      ],
      "metadata": {
        "id": "0CYfkt0ZAyKz"
      },
      "id": "0CYfkt0ZAyKz",
      "execution_count": null,
      "outputs": []
    },
    {
      "cell_type": "markdown",
      "id": "02092543",
      "metadata": {
        "id": "02092543"
      },
      "source": [
        "Creating a design matrix with polynomial features"
      ]
    },
    {
      "cell_type": "code",
      "execution_count": null,
      "id": "50b5fa71",
      "metadata": {
        "id": "50b5fa71",
        "outputId": "582202f7-547e-4b26-fbd3-8b762721bd56",
        "colab": {
          "base_uri": "https://localhost:8080/"
        }
      },
      "outputs": [
        {
          "output_type": "execute_result",
          "data": {
            "text/plain": [
              "array(['MedInc', 'HouseAge', 'AveRooms', 'AveBedrms', 'Population',\n",
              "       'AveOccup', 'Latitude', 'Longitude', 'MedInc^2', 'MedInc HouseAge',\n",
              "       'MedInc AveRooms', 'MedInc AveBedrms', 'MedInc Population',\n",
              "       'MedInc AveOccup', 'MedInc Latitude', 'MedInc Longitude',\n",
              "       'HouseAge^2', 'HouseAge AveRooms', 'HouseAge AveBedrms',\n",
              "       'HouseAge Population', 'HouseAge AveOccup', 'HouseAge Latitude',\n",
              "       'HouseAge Longitude', 'AveRooms^2', 'AveRooms AveBedrms',\n",
              "       'AveRooms Population', 'AveRooms AveOccup', 'AveRooms Latitude',\n",
              "       'AveRooms Longitude', 'AveBedrms^2', 'AveBedrms Population',\n",
              "       'AveBedrms AveOccup', 'AveBedrms Latitude', 'AveBedrms Longitude',\n",
              "       'Population^2', 'Population AveOccup', 'Population Latitude',\n",
              "       'Population Longitude', 'AveOccup^2', 'AveOccup Latitude',\n",
              "       'AveOccup Longitude', 'Latitude^2', 'Latitude Longitude',\n",
              "       'Longitude^2'], dtype=object)"
            ]
          },
          "metadata": {},
          "execution_count": 7
        }
      ],
      "source": [
        "from sklearn.preprocessing import PolynomialFeatures\n",
        "aff = PolynomialFeatures(2,include_bias=False)\n",
        "X = aff.fit_transform(X_scaled)\n",
        "aff.get_feature_names_out(california.feature_names)"
      ]
    },
    {
      "cell_type": "code",
      "source": [
        "print(X.shape)"
      ],
      "metadata": {
        "colab": {
          "base_uri": "https://localhost:8080/"
        },
        "id": "osJajDl5BxEL",
        "outputId": "616d9e1a-29a0-4b5e-c578-abfca73ff999"
      },
      "id": "osJajDl5BxEL",
      "execution_count": null,
      "outputs": [
        {
          "output_type": "stream",
          "name": "stdout",
          "text": [
            "(20640, 44)\n"
          ]
        }
      ]
    },
    {
      "cell_type": "code",
      "source": [
        "from sklearn.linear_model import LinearRegression"
      ],
      "metadata": {
        "id": "rPzyqlw3ESFY"
      },
      "id": "rPzyqlw3ESFY",
      "execution_count": null,
      "outputs": []
    },
    {
      "cell_type": "markdown",
      "id": "48e04e4b",
      "metadata": {
        "id": "48e04e4b"
      },
      "source": [
        "## Naive Bayes\n",
        "From the 20Newsgroups dataset we fetch the documents belonging to three categories, which we use as classes."
      ]
    },
    {
      "cell_type": "code",
      "execution_count": null,
      "id": "4e6475d9",
      "metadata": {
        "id": "4e6475d9"
      },
      "outputs": [],
      "source": [
        "from sklearn.datasets import fetch_20newsgroups\n",
        "categories = ['alt.atheism', 'talk.politics.guns',\n",
        "              'sci.space']\n",
        "train = fetch_20newsgroups(subset='train', categories=categories)\n",
        "test = fetch_20newsgroups(subset='test', categories=categories)"
      ]
    },
    {
      "cell_type": "markdown",
      "id": "da785a92",
      "metadata": {
        "id": "da785a92"
      },
      "source": [
        "For example, the first document in the training data is the following one:"
      ]
    },
    {
      "cell_type": "code",
      "execution_count": null,
      "id": "a93d9448",
      "metadata": {
        "id": "a93d9448",
        "outputId": "0ba3ad7b-17fe-43ce-84aa-dd44da137830"
      },
      "outputs": [
        {
          "name": "stdout",
          "output_type": "stream",
          "text": [
            "From: fcrary@ucsu.Colorado.EDU (Frank Crary)\n",
            "Subject: Re: Riddle me this...\n",
            "Nntp-Posting-Host: ucsu.colorado.edu\n",
            "Organization: University of Colorado, Boulder\n",
            "Distribution: usa\n",
            "Lines: 16\n",
            "\n",
            "In article <1r1lp1INN752@mojo.eng.umd.edu> chuck@eng.umd.edu (Chuck Harris - WA3UQV) writes:\n",
            ">>If so, why was CS often employed against tunnels in Vietnam?\n",
            "\n",
            ">CS \"tear-gas\" was used in Vietnam because it makes you wretch so hard that\n",
            ">your stomach comes out thru your throat.  Well, not quite that bad, but\n",
            ">you can't really do much to defend yourself while you are blowing cookies.\n",
            "\n",
            "I think the is BZ gas, not CS or CN. BZ gas exposure results in projectile\n",
            "vomiting, loss of essentially all muscle control, inability to concentrate\n",
            "or think rationally and fatal reactions in a significant fraction of\n",
            "the population. For that reason its use is limited to military\n",
            "applications.\n",
            "\n",
            "                                                          Frank Crary\n",
            "                                                          CU Boulder\n",
            " \n",
            "\n"
          ]
        }
      ],
      "source": [
        "print(train.data[0])"
      ]
    },
    {
      "cell_type": "markdown",
      "id": "d1af6f97",
      "metadata": {
        "id": "d1af6f97"
      },
      "source": [
        "The classes are indicated categorically with indices from zero to two by the target vector. The target names tell us which index belongs to which class."
      ]
    },
    {
      "cell_type": "code",
      "execution_count": null,
      "id": "28ceeda7",
      "metadata": {
        "id": "28ceeda7",
        "outputId": "a7dff94f-103b-4312-a01b-bbcce2e053f9"
      },
      "outputs": [
        {
          "data": {
            "text/plain": [
              "array([2, 2, 1, ..., 1, 2, 2])"
            ]
          },
          "execution_count": 10,
          "metadata": {},
          "output_type": "execute_result"
        }
      ],
      "source": [
        "y_train = train.target\n",
        "y_train"
      ]
    },
    {
      "cell_type": "code",
      "execution_count": null,
      "id": "6ad3956b",
      "metadata": {
        "id": "6ad3956b",
        "outputId": "11e80f26-f1db-4ea5-d7e1-86ed820cfab8"
      },
      "outputs": [
        {
          "data": {
            "text/plain": [
              "['alt.atheism', 'sci.space', 'talk.politics.guns']"
            ]
          },
          "execution_count": 11,
          "metadata": {},
          "output_type": "execute_result"
        }
      ],
      "source": [
        "train.target_names"
      ]
    },
    {
      "cell_type": "markdown",
      "id": "9ebde71a",
      "metadata": {
        "id": "9ebde71a"
      },
      "source": [
        "We represent the documents in a bag of word format. That is, we create a data matrix ``D`` such that ``D[j,i]=1`` if the j-th document contains the i-th feature (word), and ``D[j,i]=0`` otherwise."
      ]
    },
    {
      "cell_type": "code",
      "execution_count": null,
      "id": "167204f0",
      "metadata": {
        "id": "167204f0"
      },
      "outputs": [],
      "source": [
        "from sklearn.feature_extraction.text import CountVectorizer\n",
        "vectorizer = CountVectorizer(stop_words=\"english\", min_df=5,token_pattern=\"[^\\W\\d_]+\", binary=True)\n",
        "D = vectorizer.fit_transform(train.data)\n",
        "D_test = vectorizer.transform(test.data)"
      ]
    },
    {
      "cell_type": "markdown",
      "id": "5a9fdf2b",
      "metadata": {
        "id": "5a9fdf2b"
      },
      "source": [
        "We get the allocation of feature indices to words by the following array, containing the vocabulary."
      ]
    },
    {
      "cell_type": "code",
      "execution_count": null,
      "id": "24b0e1c5",
      "metadata": {
        "id": "24b0e1c5",
        "outputId": "70e19db2-cd95-4187-89de-3840f9712b1c"
      },
      "outputs": [
        {
          "data": {
            "text/plain": [
              "array(['aa', 'aario', 'aaron', ..., 'zoology', 'zv', 'ÿ'], dtype=object)"
            ]
          },
          "execution_count": 13,
          "metadata": {},
          "output_type": "execute_result"
        }
      ],
      "source": [
        "vectorizer.get_feature_names_out()"
      ]
    },
    {
      "cell_type": "markdown",
      "id": "f6d57b38",
      "metadata": {
        "id": "f6d57b38"
      },
      "source": [
        "For example, the word `naive` has the index 4044."
      ]
    },
    {
      "cell_type": "code",
      "execution_count": null,
      "id": "87ace193",
      "metadata": {
        "id": "87ace193",
        "outputId": "f5435727-6693-4d61-eb60-eaa747d89c7f"
      },
      "outputs": [
        {
          "data": {
            "text/plain": [
              "array([4044])"
            ]
          },
          "execution_count": 16,
          "metadata": {},
          "output_type": "execute_result"
        }
      ],
      "source": [
        "np.where(vectorizer.get_feature_names_out() == 'naive')[0]"
      ]
    },
    {
      "cell_type": "markdown",
      "id": "9daf68a3",
      "metadata": {
        "id": "9daf68a3"
      },
      "source": [
        "## Decision Tree"
      ]
    },
    {
      "cell_type": "code",
      "execution_count": null,
      "id": "f6962d9d",
      "metadata": {
        "id": "f6962d9d"
      },
      "outputs": [],
      "source": [
        "from sklearn.datasets import load_iris\n",
        "iris = load_iris()\n",
        "D, y = iris.data, iris.target"
      ]
    },
    {
      "cell_type": "code",
      "execution_count": null,
      "id": "07aca608",
      "metadata": {
        "id": "07aca608",
        "outputId": "15654a31-969f-4cac-de01-ccffab2b3f59"
      },
      "outputs": [
        {
          "name": "stdout",
          "output_type": "stream",
          "text": [
            ".. _iris_dataset:\n",
            "\n",
            "Iris plants dataset\n",
            "--------------------\n",
            "\n",
            "**Data Set Characteristics:**\n",
            "\n",
            "    :Number of Instances: 150 (50 in each of three classes)\n",
            "    :Number of Attributes: 4 numeric, predictive attributes and the class\n",
            "    :Attribute Information:\n",
            "        - sepal length in cm\n",
            "        - sepal width in cm\n",
            "        - petal length in cm\n",
            "        - petal width in cm\n",
            "        - class:\n",
            "                - Iris-Setosa\n",
            "                - Iris-Versicolour\n",
            "                - Iris-Virginica\n",
            "                \n",
            "    :Summary Statistics:\n",
            "\n",
            "    ============== ==== ==== ======= ===== ====================\n",
            "                    Min  Max   Mean    SD   Class Correlation\n",
            "    ============== ==== ==== ======= ===== ====================\n",
            "    sepal length:   4.3  7.9   5.84   0.83    0.7826\n",
            "    sepal width:    2.0  4.4   3.05   0.43   -0.4194\n",
            "    petal length:   1.0  6.9   3.76   1.76    0.9490  (high!)\n",
            "    petal width:    0.1  2.5   1.20   0.76    0.9565  (high!)\n",
            "    ============== ==== ==== ======= ===== ====================\n",
            "\n",
            "    :Missing Attribute Values: None\n",
            "    :Class Distribution: 33.3% for each of 3 classes.\n",
            "    :Creator: R.A. Fisher\n",
            "    :Donor: Michael Marshall (MARSHALL%PLU@io.arc.nasa.gov)\n",
            "    :Date: July, 1988\n",
            "\n",
            "The famous Iris database, first used by Sir R.A. Fisher. The dataset is taken\n",
            "from Fisher's paper. Note that it's the same as in R, but not as in the UCI\n",
            "Machine Learning Repository, which has two wrong data points.\n",
            "\n",
            "This is perhaps the best known database to be found in the\n",
            "pattern recognition literature.  Fisher's paper is a classic in the field and\n",
            "is referenced frequently to this day.  (See Duda & Hart, for example.)  The\n",
            "data set contains 3 classes of 50 instances each, where each class refers to a\n",
            "type of iris plant.  One class is linearly separable from the other 2; the\n",
            "latter are NOT linearly separable from each other.\n",
            "\n",
            "|details-start|\n",
            "**References**\n",
            "|details-split|\n",
            "\n",
            "- Fisher, R.A. \"The use of multiple measurements in taxonomic problems\"\n",
            "  Annual Eugenics, 7, Part II, 179-188 (1936); also in \"Contributions to\n",
            "  Mathematical Statistics\" (John Wiley, NY, 1950).\n",
            "- Duda, R.O., & Hart, P.E. (1973) Pattern Classification and Scene Analysis.\n",
            "  (Q327.D83) John Wiley & Sons.  ISBN 0-471-22361-1.  See page 218.\n",
            "- Dasarathy, B.V. (1980) \"Nosing Around the Neighborhood: A New System\n",
            "  Structure and Classification Rule for Recognition in Partially Exposed\n",
            "  Environments\".  IEEE Transactions on Pattern Analysis and Machine\n",
            "  Intelligence, Vol. PAMI-2, No. 1, 67-71.\n",
            "- Gates, G.W. (1972) \"The Reduced Nearest Neighbor Rule\".  IEEE Transactions\n",
            "  on Information Theory, May 1972, 431-433.\n",
            "- See also: 1988 MLC Proceedings, 54-64.  Cheeseman et al\"s AUTOCLASS II\n",
            "  conceptual clustering system finds 3 classes in the data.\n",
            "- Many, many more ...\n",
            "\n",
            "|details-end|\n"
          ]
        }
      ],
      "source": [
        "print(iris.DESCR)"
      ]
    },
    {
      "cell_type": "markdown",
      "id": "13e24eba",
      "metadata": {
        "id": "13e24eba"
      },
      "source": [
        "## SVM"
      ]
    },
    {
      "cell_type": "code",
      "execution_count": null,
      "id": "c132e3a4",
      "metadata": {
        "id": "c132e3a4"
      },
      "outputs": [],
      "source": [
        "# Standard scientific Python imports\n",
        "import matplotlib.pyplot as plt\n",
        "\n",
        "from sklearn import datasets\n",
        "from sklearn.model_selection import train_test_split"
      ]
    },
    {
      "cell_type": "code",
      "execution_count": null,
      "id": "b7946aaa",
      "metadata": {
        "id": "b7946aaa",
        "outputId": "be6a8056-c005-4540-d928-0c572a29277d"
      },
      "outputs": [
        {
          "data": {
            "image/png": "[encoded data removed]",
            "text/plain": [
              "<Figure size 720x216 with 4 Axes>"
            ]
          },
          "metadata": {
            "needs_background": "light"
          },
          "output_type": "display_data"
        }
      ],
      "source": [
        "digits = datasets.load_digits()\n",
        "\n",
        "_, axes = plt.subplots(nrows=1, ncols=4, figsize=(10, 3))\n",
        "for ax, image, label in zip(axes, digits.images, digits.target):\n",
        "    ax.set_axis_off()\n",
        "    ax.imshow(image, cmap=plt.cm.gray_r, interpolation=\"nearest\")\n",
        "    ax.set_title(\"Label %i\" % label)"
      ]
    },
    {
      "cell_type": "code",
      "execution_count": null,
      "id": "08ceaddc",
      "metadata": {
        "id": "08ceaddc"
      },
      "outputs": [],
      "source": [
        "# flatten the images\n",
        "n = len(digits.images)\n",
        "D = digits.images.reshape((n, -1))\n",
        "y = digits.target\n",
        "\n",
        "# Split data into 70% train and 30% test subsets\n",
        "D_train, D_test, y_train, y_test = train_test_split(\n",
        "    D, y, test_size=0.3, shuffle=False\n",
        ")"
      ]
    }
  ],
  "metadata": {
    "kernelspec": {
      "display_name": "Python 3 (ipykernel)",
      "language": "python",
      "name": "python3"
    },
    "language_info": {
      "codemirror_mode": {
        "name": "ipython",
        "version": 3
      },
      "file_extension": ".py",
      "mimetype": "text/x-python",
      "name": "python",
      "nbconvert_exporter": "python",
      "pygments_lexer": "ipython3",
      "version": "3.9.13"
    },
    "colab": {
      "provenance": [],
      "collapsed_sections": [
        "48e04e4b",
        "9daf68a3",
        "13e24eba"
      ],
      "include_colab_link": true
    }
  },
  "nbformat": 4,
  "nbformat_minor": 5
}